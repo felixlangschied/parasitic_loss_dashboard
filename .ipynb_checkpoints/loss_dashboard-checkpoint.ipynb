{
 "cells": [
  {
   "cell_type": "markdown",
   "id": "ca6f5c87",
   "metadata": {},
   "source": [
    "# Plant core genes lost with parasitism\n",
    "\n",
    "## Method\n",
    "\n",
    "* Orthologous Groups were inferred using [SonicParanoid2](https://genomebiology.biomedcentral.com/articles/10.1186/s13059-024-03298-4) (graph-based only)\n",
    "\n",
    "## Dataset\n",
    "\n",
    "* 5 hemi-parasitic plants\n",
    "* 5 holo-parasitic plants\n",
    "* 18 non-parasitic plant (One per order of the Pentapetalae)"
   ]
  },
  {
   "cell_type": "code",
   "execution_count": 6,
   "id": "333e4ca2",
   "metadata": {},
   "outputs": [],
   "source": [
    "# import ete3 as ete\n",
    "\n",
    "# t = ete.Tree(\"data/28species_tree.nwk\")\n",
    "# ts = ete.TreeStyle()\n",
    "# ts.scale =  120 # 120 pixels per branch length unit\n",
    "# t.render(\"%%inline\", tree_style=ts)"
   ]
  },
  {
   "cell_type": "markdown",
   "id": "38b4797a",
   "metadata": {},
   "source": [
    "## Phylogenetic profile of lost core genes\n",
    "\n",
    "Orthologous groups (OGs) of (non-parasitic) plant core genes are shown in the rows. The 28 plant taxa considered in this analysis are shown in the columns.\n",
    "\n",
    "Non-parasitic plants are shown in blue, hemi-parasitic plants are shown in grey, and holo-parasitic plants are shown in yellow.\n",
    "\n",
    "The hoverover information displays the protein_ids assigend to the OG in the corresponding plant species. Additionally, the functional annotation of the ortholog in _A. thaliana_ is shown.\n",
    "\n",
    "## Parameters\n",
    "\n",
    "* **Core factor**: Ratio of non-parasitic plants in which a gene must be found to be considered a \"core gene\"\n",
    "* **Loss factor**: Ratio of parasitic plants in which a gene must be absent to be considered \"lost with parasitism\"\n",
    "* **Annotation**: If \"first\" show the annotation of the first co-ortholog in _A. thaliana_, if \"all\" show the annotation of all co-orthologs"
   ]
  },
  {
   "cell_type": "code",
   "execution_count": 1,
   "id": "c07869ec",
   "metadata": {},
   "outputs": [
    {
     "data": {
      "application/vnd.jupyter.widget-view+json": {
       "model_id": "fb7d87cab0ff45d7a62c06aa5e86206e",
       "version_major": 2,
       "version_minor": 0
      },
      "text/plain": [
       "FloatSlider(value=0.9, continuous_update=False, description='Core factor:', max=1.0, readout_format='.1f')"
      ]
     },
     "metadata": {},
     "output_type": "display_data"
    },
    {
     "data": {
      "application/vnd.jupyter.widget-view+json": {
       "model_id": "0a0ee32d9d954bc6a4981229659cb75d",
       "version_major": 2,
       "version_minor": 0
      },
      "text/plain": [
       "FloatSlider(value=0.6, continuous_update=False, description='Loss factor', max=1.0, readout_format='.1f')"
      ]
     },
     "metadata": {},
     "output_type": "display_data"
    },
    {
     "data": {
      "application/vnd.jupyter.widget-view+json": {
       "model_id": "5dfdfc75bb434d719586874036bea2da",
       "version_major": 2,
       "version_minor": 0
      },
      "text/plain": [
       "Dropdown(description='Annotation:', index=1, options=('full', 'first'), value='first')"
      ]
     },
     "metadata": {},
     "output_type": "display_data"
    },
    {
     "data": {
      "application/vnd.jupyter.widget-view+json": {
       "model_id": "5e84ddd42d0044feab201b0ee2c869ef",
       "version_major": 2,
       "version_minor": 0
      },
      "text/plain": [
       "Output()"
      ]
     },
     "metadata": {},
     "output_type": "display_data"
    }
   ],
   "source": [
    "import pandas as pd\n",
    "import json\n",
    "import plotly.graph_objects as go\n",
    "import ipywidgets as widgets\n",
    "from IPython.display import display\n",
    "\n",
    "from loading import generate_widgets, get_parasets\n",
    "from process_core import find_genes_lost_for_parasitism\n",
    "from prepare_plotting import prepare_for_heatmap\n",
    "\n",
    "# --- widgets ---\n",
    "core_factor, loss_factor, propagate_annotation = generate_widgets()\n",
    "display(core_factor, loss_factor, propagate_annotation)\n",
    "\n",
    "# --- input paths ---\n",
    "para_nonpara_overview = f'data/28taxa_overview.tsv'\n",
    "og_path = f'data/28taxa_orthogroups.tsv'\n",
    "ath_anno_path = 'data/ath_protid2annotation.json'\n",
    "\n",
    "# --- load data (once) ---\n",
    "taxadf = pd.read_csv(para_nonpara_overview, sep='\\t')\n",
    "nonparasitic, parasitic, holoparasites, hemiparasites = get_parasets(taxadf)\n",
    "column_names = [f'{name}.fa' for name in hemiparasites + holoparasites]\n",
    "\n",
    "orthodf = pd.read_csv(og_path, sep='\\t')\n",
    "\n",
    "with open(ath_anno_path) as fh:\n",
    "    ath_protid2annotation = json.load(fh)\n",
    "\n",
    "# --- output area for plot ---\n",
    "out = widgets.Output()\n",
    "display(out)\n",
    "\n",
    "# --- function to update the plot ---\n",
    "def extract_athaliana_protids(df):\n",
    "    print('# NCBI RefSeq Protein IDs of lost core genes in A. thaliana for enrichment analysis:\\n')\n",
    "    for value in df['Athaliana.fa'].values:\n",
    "        if ',' in value:\n",
    "            for coortho in value.split(','):\n",
    "                print(coortho)\n",
    "        elif value == '*':\n",
    "            continue\n",
    "        else:\n",
    "            print(value)\n",
    "\n",
    "def update_plot(change=None):\n",
    "    with out:\n",
    "        out.clear_output(wait=True)\n",
    "\n",
    "        # process data with current widget values\n",
    "        loss_overview, lost_orthodf = find_genes_lost_for_parasitism(\n",
    "            orthodf,\n",
    "            nonparasitic,\n",
    "            parasitic,\n",
    "            column_names,\n",
    "            core_factor=core_factor.value,\n",
    "            loss_factor=loss_factor.value\n",
    "        )\n",
    "\n",
    "        heatmap_df, label_df, anno_df, xlabels, ylabels = prepare_for_heatmap(\n",
    "            lost_orthodf,\n",
    "            taxadf,\n",
    "            ath_protid2annotation,\n",
    "            propagate_annotation.value,\n",
    "            nonparasitic,\n",
    "            hemiparasites,\n",
    "            holoparasites\n",
    "        )\n",
    "\n",
    "        # build heatmap\n",
    "        fig = go.Figure(data=go.Heatmap(\n",
    "            z=heatmap_df,\n",
    "            x=xlabels,\n",
    "            y=ylabels,\n",
    "            text=label_df,\n",
    "            customdata=anno_df,\n",
    "            hoverinfo='x+text',\n",
    "            hoverongaps=False,\n",
    "            showscale=False,\n",
    "            type='heatmap',\n",
    "            colorscale='Cividis',\n",
    "            hovertemplate=\"<b>%{x}</b><br>%{customdata}<br>%{text}<br><br><extra></extra>\",\n",
    "        ))\n",
    "\n",
    "        # layout\n",
    "        row_height = 20\n",
    "        height = max(400, row_height * heatmap_df.index.size)\n",
    "        fig.update_layout(\n",
    "            width=800,\n",
    "            height=height\n",
    "        )\n",
    "\n",
    "        n_rows, n_cols = heatmap_df.shape\n",
    "        shapes = []\n",
    "        for i in range(1, n_cols):\n",
    "            shapes.append(dict(\n",
    "                type=\"line\",\n",
    "                x0=i-0.5, x1=i-0.5,\n",
    "                y0=-0.5, y1=n_rows-0.5,\n",
    "                line=dict(color=\"white\", width=1)\n",
    "            ))\n",
    "        for j in range(1, n_rows):\n",
    "            shapes.append(dict(\n",
    "                type=\"line\",\n",
    "                x0=-0.5, x1=n_cols-0.5,\n",
    "                y0=j-0.5, y1=j-0.5,\n",
    "                line=dict(color=\"white\", width=1)\n",
    "            ))\n",
    "\n",
    "        fig.update_layout(\n",
    "            shapes=shapes,\n",
    "            xaxis=dict(showgrid=False),\n",
    "            yaxis=dict(showgrid=False, autorange=\"reversed\")\n",
    "        )\n",
    "        fig\n",
    "\n",
    "\n",
    "# --- connect widgets to update ---\n",
    "core_factor.observe(update_plot, names=\"value\")\n",
    "loss_factor.observe(update_plot, names=\"value\")\n",
    "propagate_annotation.observe(update_plot, names=\"value\")\n",
    "\n",
    "# --- initial draw ---\n",
    "update_plot()\n"
   ]
  }
 ],
 "metadata": {
  "kernelspec": {
   "display_name": "Python 3 (ipykernel)",
   "language": "python",
   "name": "python3"
  },
  "language_info": {
   "codemirror_mode": {
    "name": "ipython",
    "version": 3
   },
   "file_extension": ".py",
   "mimetype": "text/x-python",
   "name": "python",
   "nbconvert_exporter": "python",
   "pygments_lexer": "ipython3",
   "version": "3.11.4"
  }
 },
 "nbformat": 4,
 "nbformat_minor": 5
}
